{
  "nbformat": 4,
  "nbformat_minor": 0,
  "metadata": {
    "colab": {
      "provenance": []
    },
    "kernelspec": {
      "name": "python3",
      "display_name": "Python 3"
    },
    "language_info": {
      "name": "python"
    }
  },
  "cells": [
    {
      "cell_type": "markdown",
      "source": [
        "# Requerimientos"
      ],
      "metadata": {
        "id": "sNdas62AvI0y"
      }
    },
    {
      "cell_type": "code",
      "execution_count": 1,
      "metadata": {
        "id": "Jp9bd9MpuTRy"
      },
      "outputs": [],
      "source": [
        "import pandas as pd\n",
        "import numpy as np\n",
        "import matplotlib.pyplot as plt\n",
        "import seaborn as sns\n",
        "import plotly.express as px"
      ]
    },
    {
      "cell_type": "markdown",
      "source": [
        "# Carga de los datos"
      ],
      "metadata": {
        "id": "W8-8ulc6wU8J"
      }
    },
    {
      "cell_type": "code",
      "source": [
        "data = pd.read_excel(\"\")"
      ],
      "metadata": {
        "id": "Q5qo8TptwUFm"
      },
      "execution_count": null,
      "outputs": []
    }
  ]
}